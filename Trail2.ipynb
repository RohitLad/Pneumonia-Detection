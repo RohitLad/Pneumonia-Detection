{
 "cells": [
  {
   "cell_type": "code",
   "execution_count": 1,
   "metadata": {
    "colab": {},
    "colab_type": "code",
    "id": "_v73o8i1zGlk"
   },
   "outputs": [],
   "source": [
    "import tensorflow as tf\n",
    "from IPython.display import display\n",
    "import pandas as pd\n",
    "import seaborn as sns\n",
    "import tensorflow.keras.backend as K\n",
    "import numpy as np\n",
    "import os\n",
    "import gc\n",
    "import glob\n",
    "from PIL import Image\n",
    "from tensorflow.keras.preprocessing.image import ImageDataGenerator\n",
    "from tensorflow.keras.applications.inception_v3 import InceptionV3\n",
    "from tensorflow.keras.layers import BatchNormalization, Dense, Flatten, Dropout\n",
    "from tensorflow.keras.models import Model\n",
    "from tensorflow.keras.optimizers import Adam, SGD\n",
    "from tensorflow.keras.callbacks import ModelCheckpoint, EarlyStopping, TensorBoard, ReduceLROnPlateau\n",
    "from sklearn.utils import class_weight\n",
    "from tensorflow.keras.preprocessing.image import ImageDataGenerator\n",
    "from tensorflow.keras.optimizers import Adam\n",
    "%matplotlib inline"
   ]
  },
  {
   "cell_type": "code",
   "execution_count": 2,
   "metadata": {
    "colab": {},
    "colab_type": "code",
    "id": "MK0HO2H6zLam"
   },
   "outputs": [],
   "source": [
    "def tf_reset_graph(model=None):\n",
    "    tf.reset_default_graph()\n",
    "    K.clear_session()\n",
    "    gc.collect()\n",
    "\n",
    "def tf_reset_callbacks(checkpoint=None, reduce_lr=None, early_stopping=None, tensorboard=None):\n",
    "    checkpoint = None\n",
    "    reduce_lr = None\n",
    "    early_stopping = None\n",
    "    tensorboard = None"
   ]
  },
  {
   "cell_type": "code",
   "execution_count": 3,
   "metadata": {
    "colab": {
     "base_uri": "https://localhost:8080/",
     "height": 34
    },
    "colab_type": "code",
    "id": "cISUrE_NzN9T",
    "outputId": "d2a6c877-beb6-4f60-d904-c754708c3d5f"
   },
   "outputs": [],
   "source": [
    "use_colab = False\n",
    "if use_colab:\n",
    "  from google.colab import drive\n",
    "  drive.mount('/content/drive')\n",
    "  proj_path = 'drive/My Drive/Colab/Workspace/'\n",
    "  import platform\n",
    "  print(\"Processor: \", platform.processor())\n",
    "  !nvidia-smi\n",
    "else:\n",
    "  proj_path=''"
   ]
  },
  {
   "cell_type": "code",
   "execution_count": 4,
   "metadata": {
    "colab": {
     "base_uri": "https://localhost:8080/",
     "height": 68
    },
    "colab_type": "code",
    "id": "yWEpxO9nzUEa",
    "outputId": "87b7c86f-1455-489c-ef5f-b413a9b34cba"
   },
   "outputs": [
    {
     "name": "stdout",
     "output_type": "stream",
     "text": [
      "Total number of training images:  5216\n",
      "Total number of testing images:  624\n",
      "Total number of validation images:  16\n"
     ]
    }
   ],
   "source": [
    "image_ext = '.jpeg'\n",
    "data_dir = proj_path+'dataset/'\n",
    "test_dir = data_dir+'test/'\n",
    "train_dir = data_dir+'train/'\n",
    "val_dir = data_dir+'val/'\n",
    "normals = 'NORMAL/'\n",
    "infected = 'PNEUMONIA/'\n",
    "training_normal_nos = len(glob.glob1(train_dir+normals,'*'+image_ext))\n",
    "training_infected_nos = len(glob.glob1(train_dir+infected,'*'+image_ext))\n",
    "training_nos = training_infected_nos+training_normal_nos\n",
    "testing_normal_nos = len(glob.glob1(test_dir+normals,'*'+image_ext))\n",
    "testing_infected_nos = len(glob.glob1(test_dir+infected,'*'+image_ext))\n",
    "testing_nos = testing_infected_nos+testing_normal_nos\n",
    "validation_normal_nos = len(glob.glob1(val_dir+normals,'*'+image_ext))\n",
    "validation_infected_nos = len(glob.glob1(val_dir+infected,'*'+image_ext))\n",
    "validation_nos = validation_infected_nos+validation_normal_nos\n",
    "\n",
    "print('Total number of training images: ', training_nos)\n",
    "print('Total number of testing images: ', testing_nos)\n",
    "print('Total number of validation images: ', validation_nos)"
   ]
  },
  {
   "cell_type": "code",
   "execution_count": 5,
   "metadata": {
    "colab": {},
    "colab_type": "code",
    "id": "9xGAlzwk0Ff9"
   },
   "outputs": [],
   "source": [
    "def create_image_data_generator(target_size, rescale, path, batch_size, class_mode = 'categorical', shuffle=True, shear_range = 0.2, zoom_range = 0.2, horizontal_flip = True):\n",
    "\n",
    "    data_generator = ImageDataGenerator(rescale=rescale,\n",
    "                                        shear_range=shear_range,\n",
    "                                        zoom_range=zoom_range,\n",
    "                                        horizontal_flip=horizontal_flip)\n",
    "\n",
    "    return data_generator.flow_from_directory(path,\n",
    "                                       class_mode=class_mode,\n",
    "                                       target_size=target_size,\n",
    "                                       shuffle=shuffle,\n",
    "                                       batch_size=batch_size)"
   ]
  },
  {
   "cell_type": "code",
   "execution_count": 6,
   "metadata": {
    "colab": {
     "base_uri": "https://localhost:8080/",
     "height": 68
    },
    "colab_type": "code",
    "id": "ktRnveaW03qD",
    "outputId": "dd1fb29e-f555-4468-c115-4dde3cd567e5"
   },
   "outputs": [
    {
     "name": "stdout",
     "output_type": "stream",
     "text": [
      "Found 5216 images belonging to 2 classes.\n",
      "Found 624 images belonging to 2 classes.\n",
      "Found 16 images belonging to 2 classes.\n"
     ]
    }
   ],
   "source": [
    "rescale_factor = 1./255\n",
    "target_size = (150,150)\n",
    "class_mode = 'categorical'\n",
    "training_batch_size = 163\n",
    "train_data_generator = create_image_data_generator(target_size=target_size, \n",
    "                                                   rescale=rescale_factor, \n",
    "                                                   path=train_dir, \n",
    "                                                   batch_size=training_batch_size)\n",
    "\n",
    "test_data_generator = create_image_data_generator(target_size=target_size,\n",
    "                                                 rescale=rescale_factor,\n",
    "                                                 path=test_dir,\n",
    "                                                 batch_size=testing_nos)\n",
    "\n",
    "val_data_generator = create_image_data_generator(target_size=target_size,\n",
    "                                                 rescale=rescale_factor,\n",
    "                                                 path=val_dir,\n",
    "                                                 batch_size=validation_nos)"
   ]
  },
  {
   "cell_type": "code",
   "execution_count": 7,
   "metadata": {
    "colab": {},
    "colab_type": "code",
    "id": "yttRLH4-06f3"
   },
   "outputs": [],
   "source": [
    "tf_reset_callbacks()\n",
    "tf_reset_graph()\n",
    "base = proj_path+'bin'\n",
    "model_dir = os.path.join(base,'models')\n",
    "log_dir = os.path.join(base,'logs')\n",
    "model_file = model_dir + \"{epoch:02d}-val_acc-{val_acc:.2f}-val_loss-{val_loss:.2f}.hdf5\"\n",
    "\n",
    "checkpoint = ModelCheckpoint(\n",
    "    model_file, \n",
    "    monitor='val_acc', \n",
    "    save_best_only=True)\n",
    "\n",
    "early_stopping = EarlyStopping(\n",
    "    monitor='val_loss',\n",
    "    patience=5,\n",
    "    verbose=1,\n",
    "    restore_best_weights=True)\n",
    "\n",
    "tensorboard = TensorBoard(\n",
    "    log_dir=log_dir,\n",
    "    batch_size=training_batch_size,\n",
    "    update_freq = 'batch')\n",
    "\n",
    "reduce_lr = ReduceLROnPlateau(\n",
    "    monitor='val_loss',\n",
    "    patience=5,\n",
    "    cooldown=2,\n",
    "    min_lr=1e-10,\n",
    "    verbose=1)\n",
    "\n",
    "#callbacks = [checkpoint, reduce_lr, early_stopping, tensorboard]\n",
    "callbacks = [checkpoint, reduce_lr, tensorboard]"
   ]
  },
  {
   "cell_type": "code",
   "execution_count": 10,
   "metadata": {
    "colab": {},
    "colab_type": "code",
    "id": "ufInFYnz1DA3"
   },
   "outputs": [],
   "source": [
    "def create_model():\n",
    "    inception_model = InceptionV3(weights='imagenet', include_top=False, input_shape = target_size+(3,))\n",
    "    x = inception_model.output\n",
    "    x = BatchNormalization()(x)\n",
    "    x = Dense(512, activation='relu')(x)\n",
    "    x = Dropout(0.15)(x)\n",
    "    x = Dense(256, activation='relu')(x)\n",
    "    x = Flatten()(x)\n",
    "    predictions = Dense(2,activation='softmax')(x)\n",
    "    model = Model(inputs = inception_model.input, outputs=predictions)\n",
    "    for layer in inception_model.layers:\n",
    "        layer.trainable = False\n",
    "    return model"
   ]
  },
  {
   "cell_type": "code",
   "execution_count": 11,
   "metadata": {
    "colab": {},
    "colab_type": "code",
    "id": "mnVIktlt1MwV"
   },
   "outputs": [],
   "source": [
    "steps_per_epoch = len(train_data_generator)\n",
    "validation_steps = len(val_data_generator)\n",
    "classes = train_data_generator.classes\n",
    "class_weights = class_weight.compute_class_weight('balanced', np.unique(classes), classes)\n",
    "\n",
    "optimizer = SGD()#Adam()\n",
    "model = create_model()\n",
    "model.compile(optimizer=optimizer, loss = 'categorical_crossentropy', metrics=['accuracy'])"
   ]
  },
  {
   "cell_type": "code",
   "execution_count": null,
   "metadata": {
    "colab": {
     "base_uri": "https://localhost:8080/",
     "height": 306
    },
    "colab_type": "code",
    "id": "Efv_L00K1QT9",
    "outputId": "374269cc-8722-4bf8-a432-89ec1ab6599f"
   },
   "outputs": [
    {
     "name": "stdout",
     "output_type": "stream",
     "text": [
      "Epoch 1/100\n"
     ]
    }
   ],
   "source": [
    "history = model.fit_generator(train_data_generator,\n",
    "                             steps_per_epoch=steps_per_epoch,\n",
    "                             epochs=100,\n",
    "                             verbose=1,\n",
    "                             validation_data=val_data_generator,\n",
    "                             validation_steps=validation_steps,\n",
    "                             class_weight=class_weights,\n",
    "                             callbacks=callbacks)"
   ]
  },
  {
   "cell_type": "code",
   "execution_count": 0,
   "metadata": {
    "colab": {},
    "colab_type": "code",
    "id": "TsGj85NG1aV3"
   },
   "outputs": [],
   "source": [
    "model_file = 'pneumonia_trained.hd5'\n",
    "model.save(model_file)"
   ]
  }
 ],
 "metadata": {
  "accelerator": "GPU",
  "colab": {
   "collapsed_sections": [],
   "name": "Trail2.ipynb",
   "provenance": []
  },
  "kernelspec": {
   "display_name": "Python 3",
   "language": "python",
   "name": "python3"
  },
  "language_info": {
   "codemirror_mode": {
    "name": "ipython",
    "version": 3
   },
   "file_extension": ".py",
   "mimetype": "text/x-python",
   "name": "python",
   "nbconvert_exporter": "python",
   "pygments_lexer": "ipython3",
   "version": "3.7.4"
  }
 },
 "nbformat": 4,
 "nbformat_minor": 1
}
