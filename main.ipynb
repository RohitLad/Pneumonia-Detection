{
 "cells": [
  {
   "cell_type": "code",
   "execution_count": 8,
   "metadata": {},
   "outputs": [],
   "source": [
    "import tensorflow as tf\n",
    "from IPython.display import display\n",
    "import pandas as pd\n",
    "import seaborn as sns\n",
    "import os\n",
    "import glob\n",
    "from tensorflow.keras.preprocessing.image import ImageDataGenerator\n",
    "%matplotlib inline"
   ]
  },
  {
   "cell_type": "code",
   "execution_count": 10,
   "metadata": {},
   "outputs": [],
   "source": [
    "from helper import *"
   ]
  },
  {
   "cell_type": "code",
   "execution_count": 9,
   "metadata": {},
   "outputs": [
    {
     "name": "stdout",
     "output_type": "stream",
     "text": [
      "Total number of training images:  5216\n",
      "Total number of testing images:  624\n",
      "Total number of validation images:  16\n"
     ]
    }
   ],
   "source": [
    "image_ext = '.jpeg'\n",
    "data_dir = 'dataset/'\n",
    "test_dir = data_dir+'test/'\n",
    "train_dir = data_dir+'train/'\n",
    "val_dir = data_dir+'val/'\n",
    "normals = 'NORMAL/'\n",
    "infected = 'PNEUMONIA/'\n",
    "training_normal_nos = len(glob.glob1(train_dir+normals,'*'+image_ext))\n",
    "training_infected_nos = len(glob.glob1(train_dir+infected,'*'+image_ext))\n",
    "training_nos = training_infected_nos+training_normal_nos\n",
    "testing_normal_nos = len(glob.glob1(test_dir+normals,'*'+image_ext))\n",
    "testing_infected_nos = len(glob.glob1(test_dir+infected,'*'+image_ext))\n",
    "testing_nos = testing_infected_nos+testing_normal_nos\n",
    "validation_normal_nos = len(glob.glob1(val_dir+normals,'*'+image_ext))\n",
    "validation_infected_nos = len(glob.glob1(val_dir+infected,'*'+image_ext))\n",
    "validation_nos = validation_infected_nos+validation_normal_nos\n",
    "\n",
    "print('Total number of training images: ', training_nos)\n",
    "print('Total number of testing images: ', testing_nos)\n",
    "print('Total number of validation images: ', validation_nos)"
   ]
  },
  {
   "cell_type": "code",
   "execution_count": 11,
   "metadata": {},
   "outputs": [
    {
     "name": "stdout",
     "output_type": "stream",
     "text": [
      "Found 5216 images belonging to 2 classes.\n",
      "Found 624 images belonging to 2 classes.\n",
      "Found 16 images belonging to 2 classes.\n"
     ]
    }
   ],
   "source": [
    "rescale_factor = 1./255\n",
    "target_size = (150,150)\n",
    "class_mode = 'categorical'\n",
    "training_batch_size = int(training_nos/40)\n",
    "\n",
    "train_data_generator = create_image_data_generator(target_size=target_size, \n",
    "                                                   rescale=rescale_factor, \n",
    "                                                   path=train_dir, \n",
    "                                                   batch_size=training_batch_size)\n",
    "\n",
    "test_data_generator = create_image_data_generator(target_size=target_size,\n",
    "                                                 rescale=rescale_factor,\n",
    "                                                 path=test_dir,\n",
    "                                                 batch_size=testing_nos)\n",
    "\n",
    "val_data_generator = create_image_data_generator(target_size=target_size,\n",
    "                                                 rescale=rescale_factor,\n",
    "                                                 path=val_dir,\n",
    "                                                 batch_size=validation_nos)"
   ]
  },
  {
   "cell_type": "code",
   "execution_count": null,
   "metadata": {},
   "outputs": [],
   "source": [
    "model_dir = 'models/'\n",
    "log_dir = 'logs/'\n"
   ]
  }
 ],
 "metadata": {
  "kernelspec": {
   "display_name": "Python 3",
   "language": "python",
   "name": "python3"
  },
  "language_info": {
   "codemirror_mode": {
    "name": "ipython",
    "version": 3
   },
   "file_extension": ".py",
   "mimetype": "text/x-python",
   "name": "python",
   "nbconvert_exporter": "python",
   "pygments_lexer": "ipython3",
   "version": "3.6.8"
  }
 },
 "nbformat": 4,
 "nbformat_minor": 2
}
